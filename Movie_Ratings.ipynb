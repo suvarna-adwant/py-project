{
 "cells": [
  {
   "cell_type": "code",
   "execution_count": 1,
   "id": "9e790d1d",
   "metadata": {},
   "outputs": [],
   "source": [
    "import pandas as pd\n"
   ]
  },
  {
   "cell_type": "code",
   "execution_count": 2,
   "id": "32d2df80",
   "metadata": {},
   "outputs": [],
   "source": [
    "movie_ratings = pd.read_csv('./movie_ratings.csv')"
   ]
  },
  {
   "cell_type": "code",
   "execution_count": 3,
   "id": "152e8e59",
   "metadata": {},
   "outputs": [
    {
     "data": {
      "text/html": [
       "<div>\n",
       "<style scoped>\n",
       "    .dataframe tbody tr th:only-of-type {\n",
       "        vertical-align: middle;\n",
       "    }\n",
       "\n",
       "    .dataframe tbody tr th {\n",
       "        vertical-align: top;\n",
       "    }\n",
       "\n",
       "    .dataframe thead th {\n",
       "        text-align: right;\n",
       "    }\n",
       "</style>\n",
       "<table border=\"1\" class=\"dataframe\">\n",
       "  <thead>\n",
       "    <tr style=\"text-align: right;\">\n",
       "      <th></th>\n",
       "      <th>Movie</th>\n",
       "      <th>Rating</th>\n",
       "    </tr>\n",
       "  </thead>\n",
       "  <tbody>\n",
       "    <tr>\n",
       "      <th>0</th>\n",
       "      <td>Star Wars: Episode IV</td>\n",
       "      <td>10.0000</td>\n",
       "    </tr>\n",
       "    <tr>\n",
       "      <th>1</th>\n",
       "      <td>Star Wars: Episode I</td>\n",
       "      <td>0.1138</td>\n",
       "    </tr>\n",
       "    <tr>\n",
       "      <th>2</th>\n",
       "      <td>Life of Pi</td>\n",
       "      <td>3.1400</td>\n",
       "    </tr>\n",
       "    <tr>\n",
       "      <th>3</th>\n",
       "      <td>This is Spinal Tap</td>\n",
       "      <td>11.0000</td>\n",
       "    </tr>\n",
       "  </tbody>\n",
       "</table>\n",
       "</div>"
      ],
      "text/plain": [
       "                   Movie   Rating\n",
       "0  Star Wars: Episode IV  10.0000\n",
       "1   Star Wars: Episode I   0.1138\n",
       "2             Life of Pi   3.1400\n",
       "3     This is Spinal Tap  11.0000"
      ]
     },
     "execution_count": 3,
     "metadata": {},
     "output_type": "execute_result"
    }
   ],
   "source": [
    "movie_ratings"
   ]
  },
  {
   "cell_type": "code",
   "execution_count": 6,
   "id": "590613a8",
   "metadata": {},
   "outputs": [],
   "source": [
    "movie_ratings[\"squared_rating\"] = movie_ratings.Rating**2"
   ]
  },
  {
   "cell_type": "code",
   "execution_count": 7,
   "id": "3d31e264",
   "metadata": {},
   "outputs": [
    {
     "data": {
      "text/html": [
       "<div>\n",
       "<style scoped>\n",
       "    .dataframe tbody tr th:only-of-type {\n",
       "        vertical-align: middle;\n",
       "    }\n",
       "\n",
       "    .dataframe tbody tr th {\n",
       "        vertical-align: top;\n",
       "    }\n",
       "\n",
       "    .dataframe thead th {\n",
       "        text-align: right;\n",
       "    }\n",
       "</style>\n",
       "<table border=\"1\" class=\"dataframe\">\n",
       "  <thead>\n",
       "    <tr style=\"text-align: right;\">\n",
       "      <th></th>\n",
       "      <th>Movie</th>\n",
       "      <th>Rating</th>\n",
       "      <th>squared_rating</th>\n",
       "    </tr>\n",
       "  </thead>\n",
       "  <tbody>\n",
       "    <tr>\n",
       "      <th>0</th>\n",
       "      <td>Star Wars: Episode IV</td>\n",
       "      <td>10.0000</td>\n",
       "      <td>100.00000</td>\n",
       "    </tr>\n",
       "    <tr>\n",
       "      <th>1</th>\n",
       "      <td>Star Wars: Episode I</td>\n",
       "      <td>0.1138</td>\n",
       "      <td>0.01295</td>\n",
       "    </tr>\n",
       "    <tr>\n",
       "      <th>2</th>\n",
       "      <td>Life of Pi</td>\n",
       "      <td>3.1400</td>\n",
       "      <td>9.85960</td>\n",
       "    </tr>\n",
       "    <tr>\n",
       "      <th>3</th>\n",
       "      <td>This is Spinal Tap</td>\n",
       "      <td>11.0000</td>\n",
       "      <td>121.00000</td>\n",
       "    </tr>\n",
       "  </tbody>\n",
       "</table>\n",
       "</div>"
      ],
      "text/plain": [
       "                   Movie   Rating  squared_rating\n",
       "0  Star Wars: Episode IV  10.0000       100.00000\n",
       "1   Star Wars: Episode I   0.1138         0.01295\n",
       "2             Life of Pi   3.1400         9.85960\n",
       "3     This is Spinal Tap  11.0000       121.00000"
      ]
     },
     "execution_count": 7,
     "metadata": {},
     "output_type": "execute_result"
    }
   ],
   "source": [
    "movie_ratings"
   ]
  },
  {
   "cell_type": "code",
   "execution_count": 21,
   "id": "caab0847",
   "metadata": {},
   "outputs": [],
   "source": [
    "def recoding_function(x): \n",
    "    if (x>10):\n",
    "        return(10) \n",
    "    else:\n",
    "        return(x)"
   ]
  },
  {
   "cell_type": "code",
   "execution_count": 28,
   "id": "931aaa15",
   "metadata": {},
   "outputs": [],
   "source": [
    "movie_ratings['new_rating'] = movie_ratings.Rating.apply(recoding_function)"
   ]
  },
  {
   "cell_type": "code",
   "execution_count": 34,
   "id": "829e6382",
   "metadata": {},
   "outputs": [
    {
     "data": {
      "text/html": [
       "<div>\n",
       "<style scoped>\n",
       "    .dataframe tbody tr th:only-of-type {\n",
       "        vertical-align: middle;\n",
       "    }\n",
       "\n",
       "    .dataframe tbody tr th {\n",
       "        vertical-align: top;\n",
       "    }\n",
       "\n",
       "    .dataframe thead th {\n",
       "        text-align: right;\n",
       "    }\n",
       "</style>\n",
       "<table border=\"1\" class=\"dataframe\">\n",
       "  <thead>\n",
       "    <tr style=\"text-align: right;\">\n",
       "      <th></th>\n",
       "      <th>Movie</th>\n",
       "      <th>Rating</th>\n",
       "      <th>squared_rating</th>\n",
       "      <th>new_rating</th>\n",
       "    </tr>\n",
       "  </thead>\n",
       "  <tbody>\n",
       "    <tr>\n",
       "      <th>0</th>\n",
       "      <td>Star Wars: Episode IV</td>\n",
       "      <td>10.0000</td>\n",
       "      <td>100.00000</td>\n",
       "      <td>10.0000</td>\n",
       "    </tr>\n",
       "    <tr>\n",
       "      <th>1</th>\n",
       "      <td>Star Wars: Episode I</td>\n",
       "      <td>0.1138</td>\n",
       "      <td>0.01295</td>\n",
       "      <td>0.1138</td>\n",
       "    </tr>\n",
       "    <tr>\n",
       "      <th>2</th>\n",
       "      <td>Life of Pi</td>\n",
       "      <td>3.1400</td>\n",
       "      <td>9.85960</td>\n",
       "      <td>3.1400</td>\n",
       "    </tr>\n",
       "    <tr>\n",
       "      <th>3</th>\n",
       "      <td>This is Spinal Tap</td>\n",
       "      <td>11.0000</td>\n",
       "      <td>121.00000</td>\n",
       "      <td>10.0000</td>\n",
       "    </tr>\n",
       "  </tbody>\n",
       "</table>\n",
       "</div>"
      ],
      "text/plain": [
       "                   Movie   Rating  squared_rating  new_rating\n",
       "0  Star Wars: Episode IV  10.0000       100.00000     10.0000\n",
       "1   Star Wars: Episode I   0.1138         0.01295      0.1138\n",
       "2             Life of Pi   3.1400         9.85960      3.1400\n",
       "3     This is Spinal Tap  11.0000       121.00000     10.0000"
      ]
     },
     "execution_count": 34,
     "metadata": {},
     "output_type": "execute_result"
    }
   ],
   "source": [
    "movie_ratings"
   ]
  },
  {
   "cell_type": "code",
   "execution_count": 38,
   "id": "eca5f579",
   "metadata": {},
   "outputs": [],
   "source": [
    "movie_ratings_subset = movie_ratings.loc[movie_ratings.new_rating >=5, ['Movie', 'new_rating']]"
   ]
  },
  {
   "cell_type": "code",
   "execution_count": 39,
   "id": "e89fed9e",
   "metadata": {},
   "outputs": [
    {
     "data": {
      "text/html": [
       "<div>\n",
       "<style scoped>\n",
       "    .dataframe tbody tr th:only-of-type {\n",
       "        vertical-align: middle;\n",
       "    }\n",
       "\n",
       "    .dataframe tbody tr th {\n",
       "        vertical-align: top;\n",
       "    }\n",
       "\n",
       "    .dataframe thead th {\n",
       "        text-align: right;\n",
       "    }\n",
       "</style>\n",
       "<table border=\"1\" class=\"dataframe\">\n",
       "  <thead>\n",
       "    <tr style=\"text-align: right;\">\n",
       "      <th></th>\n",
       "      <th>Movie</th>\n",
       "      <th>new_rating</th>\n",
       "    </tr>\n",
       "  </thead>\n",
       "  <tbody>\n",
       "    <tr>\n",
       "      <th>0</th>\n",
       "      <td>Star Wars: Episode IV</td>\n",
       "      <td>10.0</td>\n",
       "    </tr>\n",
       "    <tr>\n",
       "      <th>3</th>\n",
       "      <td>This is Spinal Tap</td>\n",
       "      <td>10.0</td>\n",
       "    </tr>\n",
       "  </tbody>\n",
       "</table>\n",
       "</div>"
      ],
      "text/plain": [
       "                   Movie  new_rating\n",
       "0  Star Wars: Episode IV        10.0\n",
       "3     This is Spinal Tap        10.0"
      ]
     },
     "execution_count": 39,
     "metadata": {},
     "output_type": "execute_result"
    }
   ],
   "source": [
    "movie_ratings_subset"
   ]
  },
  {
   "cell_type": "code",
   "execution_count": 42,
   "id": "36773568",
   "metadata": {},
   "outputs": [],
   "source": [
    "movie_ratings_subset. to_csv('./movie_ratings_sub.csv' , index=False)"
   ]
  },
  {
   "cell_type": "code",
   "execution_count": 43,
   "id": "d4512d28",
   "metadata": {},
   "outputs": [
    {
     "name": "stdout",
     "output_type": "stream",
     "text": [
      "Untitled.ipynb         movie_ratings.csv      movie_ratings_sub.csv\r\n"
     ]
    }
   ],
   "source": [
    "%ls"
   ]
  },
  {
   "cell_type": "code",
   "execution_count": 44,
   "id": "85b6e6ec",
   "metadata": {},
   "outputs": [
    {
     "data": {
      "text/plain": [
       "5.81345"
      ]
     },
     "execution_count": 44,
     "metadata": {},
     "output_type": "execute_result"
    }
   ],
   "source": [
    "movie_ratings.new_rating.mean()"
   ]
  },
  {
   "cell_type": "code",
   "execution_count": 45,
   "id": "10dbf90d",
   "metadata": {},
   "outputs": [
    {
     "data": {
      "text/plain": [
       "0.1138"
      ]
     },
     "execution_count": 45,
     "metadata": {},
     "output_type": "execute_result"
    }
   ],
   "source": [
    "movie_ratings.new_rating.min()"
   ]
  },
  {
   "cell_type": "code",
   "execution_count": 46,
   "id": "30d7f515",
   "metadata": {},
   "outputs": [
    {
     "data": {
      "text/plain": [
       "<Axes: >"
      ]
     },
     "execution_count": 46,
     "metadata": {},
     "output_type": "execute_result"
    },
    {
     "data": {
      "image/png": "[encoded data removed]",
      "text/plain": [
       "<Figure size 640x480 with 1 Axes>"
      ]
     },
     "metadata": {},
     "output_type": "display_data"
    }
   ],
   "source": [
    "import matplotlib.pyplot as plt\n",
    "import matplotlib\n",
    "matplotlib.style.use('ggplot')\n",
    "%matplotlib inline\n",
    "\n",
    "movie_ratings.new_rating.plot()"
   ]
  },
  {
   "cell_type": "code",
   "execution_count": null,
   "id": "f8a588df",
   "metadata": {},
   "outputs": [],
   "source": []
  }
 ],
 "metadata": {
  "kernelspec": {
   "display_name": "Python 3 (ipykernel)",
   "language": "python",
   "name": "python3"
  },
  "language_info": {
   "codemirror_mode": {
    "name": "ipython",
    "version": 3
   },
   "file_extension": ".py",
   "mimetype": "text/x-python",
   "name": "python",
   "nbconvert_exporter": "python",
   "pygments_lexer": "ipython3",
   "version": "3.10.9"
  }
 },
 "nbformat": 4,
 "nbformat_minor": 5
}
